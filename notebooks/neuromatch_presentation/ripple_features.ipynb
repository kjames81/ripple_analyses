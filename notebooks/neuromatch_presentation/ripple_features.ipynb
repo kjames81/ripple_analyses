{
 "cells": [
  {
   "cell_type": "code",
   "execution_count": 17,
   "metadata": {},
   "outputs": [],
   "source": [
    "import pandas as pd\n",
    "from matplotlib import pyplot as plt\n",
    "import seaborn as sns\n",
    "import matplotlib.ticker as ticker\n",
    "\n",
    "import sys\n",
    "sys.path.append(\"D:/ryanh/github/ripple_analyses\")\n",
    "from functions import *"
   ]
  },
  {
   "cell_type": "code",
   "execution_count": null,
   "metadata": {},
   "outputs": [],
   "source": [
    "tex_fonts = {\n",
    "#     # Use LaTeX to write all text\n",
    "#     \"text.usetex\": True,\n",
    "    \"font.family\": \"serif\",\n",
    "    # Use 10pt font in plots, to match 10pt font in document\n",
    "    \"axes.labelsize\": 8,\n",
    "    \"font.size\": 7,\n",
    "    # Make the legend/label fonts a little smaller\n",
    "    \"legend.fontsize\": 8,\n",
    "    \"xtick.labelsize\": 7,\n",
    "    \"ytick.labelsize\": 7\n",
    "}\n",
    "plt.style.use('seaborn-paper')\n",
    "plt.rcParams.update(tex_fonts)\n",
    "\n",
    "%config InlineBackend.figure_format = 'retina'"
   ]
  },
  {
   "cell_type": "markdown",
   "metadata": {},
   "source": [
    "https://github.com/neilernst/cliffsDelta"
   ]
  },
  {
   "cell_type": "code",
   "execution_count": 29,
   "metadata": {},
   "outputs": [],
   "source": [
    "def cliffsDelta(lst1, lst2, **dull):\n",
    "\n",
    "    \"\"\"Returns delta and true if there are more than 'dull' differences\"\"\"\n",
    "    if not dull:\n",
    "        dull = {'small': 0.147, 'medium': 0.33, 'large': 0.474} # effect sizes from (Hess and Kromrey, 2004)\n",
    "    m, n = len(lst1), len(lst2)\n",
    "    lst2 = sorted(lst2)\n",
    "    j = more = less = 0\n",
    "    for repeats, x in runs(sorted(lst1)):\n",
    "        while j <= (n - 1) and lst2[j] < x:\n",
    "            j += 1\n",
    "        more += j*repeats\n",
    "        while j <= (n - 1) and lst2[j] == x:\n",
    "            j += 1\n",
    "        less += (n - j)*repeats\n",
    "    d = (more - less) / (m*n)\n",
    "    size = lookup_size(d, dull)\n",
    "    return d, size\n",
    "\n",
    "def lookup_size(delta: float, dull: dict) -> str:\n",
    "    \"\"\"\n",
    "    :type delta: float\n",
    "    :type dull: dict, a dictionary of small, medium, large thresholds.\n",
    "    \"\"\"\n",
    "    delta = abs(delta)\n",
    "    if delta < dull['small']:\n",
    "        return 'negligible'\n",
    "    if dull['small'] <= delta < dull['medium']:\n",
    "        return 'small'\n",
    "    if dull['medium'] <= delta < dull['large']:\n",
    "        return 'medium'\n",
    "    if delta >= dull['large']:\n",
    "        return 'large'\n",
    "\n",
    "\n",
    "def runs(lst):\n",
    "    \"\"\"Iterator, chunks repeated values\"\"\"\n",
    "    for j, two in enumerate(lst):\n",
    "        if j == 0:\n",
    "            one, i = two, 0\n",
    "        if one != two:\n",
    "            yield j - i, one\n",
    "            i = j\n",
    "        one = two\n",
    "    yield j - i + 1, two"
   ]
  },
  {
   "cell_type": "markdown",
   "metadata": {},
   "source": [
    "# load in data"
   ]
  },
  {
   "cell_type": "code",
   "execution_count": 18,
   "metadata": {},
   "outputs": [],
   "source": [
    "df = pd.read_csv('F:/Projects/PAE_PlaceCell/swr_data/post_processed/swr_df.csv')\n",
    "df_inter_ripple = pd.read_csv('F:/Projects/PAE_PlaceCell/swr_data/post_processed/swr_inter_ripple_interval.csv')"
   ]
  },
  {
   "cell_type": "code",
   "execution_count": 65,
   "metadata": {},
   "outputs": [
    {
     "data": {
      "image/png": "[encoded data removed]",
      "text/plain": [
       "<Figure size 510.236x78.8358 with 4 Axes>"
      ]
     },
     "metadata": {
      "needs_background": "light"
     },
     "output_type": "display_data"
    }
   ],
   "source": [
    "epoch_idx = ((df.ep_type == 'track') | (df.ep_type == 'pedestal_1') | (df.ep_type == 'pedestal_2'))\n",
    "\n",
    "fig, axs = plt.subplots(1,4, figsize=set_size('thesis', fraction=1.2, subplots=(1, 4)), edgecolor='k')\n",
    "fig.subplots_adjust(hspace = 0, wspace=1)\n",
    "axs = axs.ravel()\n",
    "\n",
    "# set params\n",
    "x = 'group'\n",
    "linewidth = 1.25\n",
    "width = .9\n",
    "\n",
    "# Create an array with the colors you want to use\n",
    "colors = ['dimgrey','#ffa500ff']\n",
    "# colors = ['dimgrey','gold']\n",
    "\n",
    "\n",
    "# Set your custom color palette\n",
    "sns.set_palette(sns.color_palette(colors))\n",
    "\n",
    "# plot\n",
    "axs[0] = sns.violinplot(x=x, y=\"ripple_duration\", data=df[epoch_idx],\n",
    "               linewidth=linewidth,width=width,ax=axs[0])\n",
    "axs[0].yaxis.set_major_locator(ticker.MultipleLocator(0.05))\n",
    "axs[0].set_ylabel('Event duration (sec)')\n",
    "\n",
    "axs[1] = sns.violinplot(x=x, y=\"peak_freq\", data=df[epoch_idx],\n",
    "               linewidth=linewidth,width=width,ax=axs[1])\n",
    "axs[1].yaxis.set_major_locator(ticker.MultipleLocator(25))\n",
    "axs[1].set_ylabel('Event freq. (Hz)')\n",
    "\n",
    "axs[2] = sns.violinplot(x=x, y=\"peak_amplitude\", data=df[epoch_idx],\n",
    "               linewidth=linewidth,width=width,ax=axs[2])\n",
    "axs[2].yaxis.set_major_locator(ticker.MultipleLocator(5))\n",
    "axs[2].set_ylabel('Event amp. (zscore)')\n",
    "\n",
    "epoch_idx = (df_inter_ripple.ep_type == 'track') | (df_inter_ripple.ep_type == 'pedestal_1') | (df_inter_ripple.ep_type == 'pedestal_2')   \n",
    "axs[3] = sns.violinplot(x=x, y=\"intra_ripple_interval\", data=df_inter_ripple[epoch_idx],\n",
    "               linewidth=linewidth,width=width,ax=axs[3])\n",
    "axs[3].yaxis.set_major_locator(ticker.MultipleLocator(0.2))\n",
    "axs[3].set_ylabel('Inter-event-int. (sec)')\n",
    "\n",
    "# clean up  box\n",
    "for i in range(4):\n",
    "    right_side = axs[i].spines[\"right\"]\n",
    "    right_side.set_visible(False)\n",
    "    top_side = axs[i].spines[\"top\"]\n",
    "    top_side.set_visible(False)\n",
    "    axs[i].set_xlabel('')\n",
    "\n",
    "# fig.text(0.5, -.3, 'Group', ha='center')\n",
    "plt.savefig('ripple_features_'+epoch+'.svg',dpi=900,bbox_inches='tight')\n",
    "plt.savefig('ripple_features_'+epoch+'.pdf',dpi=900,bbox_inches='tight')"
   ]
  },
  {
   "cell_type": "code",
   "execution_count": 36,
   "metadata": {},
   "outputs": [
    {
     "name": "stdout",
     "output_type": "stream",
     "text": [
      "(0.13640916629489874, 'negligible')\n",
      "(-0.13458831685807301, 'negligible')\n",
      "(0.11041690494707948, 'negligible')\n",
      "(-0.11259259259259259, 'negligible')\n"
     ]
    }
   ],
   "source": [
    "epoch_idx = ((df.ep_type == 'track') | (df.ep_type == 'pedestal_1') | (df.ep_type == 'pedestal_2'))\n",
    "\n",
    "print(cliffsDelta(df.ripple_duration[epoch_idx & (df.group == \"control\")], df.ripple_duration[epoch_idx & (df.group == \"pae\")]))\n",
    "\n",
    "print(cliffsDelta(df.peak_freq[epoch_idx & (df.group == \"control\")], df.peak_freq[epoch_idx & (df.group == \"pae\")]))\n",
    "\n",
    "print(cliffsDelta(df.peak_amplitude[epoch_idx & (df.group == \"control\")], df.peak_amplitude[epoch_idx & (df.group == \"pae\")]))\n",
    "\n",
    "epoch_idx = (df_inter_ripple.ep_type == 'track') | (df_inter_ripple.ep_type == 'pedestal_1') | (df_inter_ripple.ep_type == 'pedestal_2')   \n",
    "print(cliffsDelta(df_inter_ripple.intra_ripple_interval[epoch_idx & (df_inter_ripple.group == \"control\")],\n",
    "                  df_inter_ripple.intra_ripple_interval[epoch_idx & (df_inter_ripple.group == \"pae\")]))"
   ]
  }
 ],
 "metadata": {
  "kernelspec": {
   "display_name": "Python 3",
   "language": "python",
   "name": "python3"
  },
  "language_info": {
   "codemirror_mode": {
    "name": "ipython",
    "version": 3
   },
   "file_extension": ".py",
   "mimetype": "text/x-python",
   "name": "python",
   "nbconvert_exporter": "python",
   "pygments_lexer": "ipython3",
   "version": "3.8.5"
  }
 },
 "nbformat": 4,
 "nbformat_minor": 4
}
